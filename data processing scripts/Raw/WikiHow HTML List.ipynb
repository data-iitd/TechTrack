{
 "cells": [
  {
   "cell_type": "code",
   "execution_count": 1,
   "metadata": {},
   "outputs": [],
   "source": [
    "import requests\n",
    "import bs4\n",
    "from pywikihow.exceptions import ParseError\n",
    "import re\n",
    "import sys\n",
    "import urllib.request\n",
    "import time\n",
    "from bs4 import BeautifulSoup\n",
    "from bs4.element import Comment"
   ]
  },
  {
   "cell_type": "code",
   "execution_count": 2,
   "metadata": {},
   "outputs": [],
   "source": [
    "links = []"
   ]
  },
  {
   "cell_type": "code",
   "execution_count": 3,
   "metadata": {},
   "outputs": [],
   "source": [
    "# url = \"https://www.wikihow.com/Category:Computers-and-Electronics\"\n",
    "# headers = {'User-Agent': \"Mozilla/5.0 (X11; Ubuntu; Linux x86_64; rv:41.0) Gecko/20100101 Firefox/41.0\"}\n",
    "# r = requests.get(url, headers=headers)\n",
    "# html = r.text.encode(\"utf8\")\n",
    "# soup = BeautifulSoup(html, \"html.parser\")"
   ]
  },
  {
   "cell_type": "code",
   "execution_count": 4,
   "metadata": {},
   "outputs": [],
   "source": [
    "# soup.title.text"
   ]
  },
  {
   "cell_type": "code",
   "execution_count": 5,
   "metadata": {},
   "outputs": [],
   "source": [
    "# block = soup.find(\"div\", {\"id\": 'cat_container'})"
   ]
  },
  {
   "cell_type": "code",
   "execution_count": 6,
   "metadata": {},
   "outputs": [],
   "source": [
    "# blocks = block.find_all(\"a\")"
   ]
  },
  {
   "cell_type": "code",
   "execution_count": null,
   "metadata": {},
   "outputs": [],
   "source": []
  },
  {
   "cell_type": "code",
   "execution_count": 7,
   "metadata": {},
   "outputs": [],
   "source": [
    "# for b in blocks:\n",
    "#     s = b.get(\"href\")\n",
    "#     if(s is not None and s.startswith('https://www.wikihow.com/')):\n",
    "#         print(b.get(\"href\"))"
   ]
  },
  {
   "cell_type": "code",
   "execution_count": 8,
   "metadata": {},
   "outputs": [],
   "source": [
    "def get_links(url):\n",
    "    headers = {'User-Agent': \"Mozilla/5.0 (X11; Ubuntu; Linux x86_64; rv:41.0) Gecko/20100101 Firefox/41.0\"}\n",
    "    r = requests.get(url, headers=headers)\n",
    "    html = r.text.encode(\"utf8\")\n",
    "    soup = BeautifulSoup(html, \"html.parser\")\n",
    "    block = soup.find(\"div\", {\"id\": 'cat_container'})\n",
    "    blocks = block.find_all(\"a\")\n",
    "    for b in blocks:\n",
    "        s = b.get(\"href\")\n",
    "        if(s is not None and s.startswith('https://www.wikihow.com/')):\n",
    "            links.append(b.get(\"href\"))"
   ]
  },
  {
   "cell_type": "code",
   "execution_count": 9,
   "metadata": {},
   "outputs": [],
   "source": [
    "# links = []\n",
    "# get_links('https://www.wikihow.com/Category:Printers')\n",
    "# get_links('https://www.wikihow.com/Category:Printers?pg=2')\n",
    "# # get_links('https://www.wikihow.com/Category:Computers-and-Electronics?pg=3')"
   ]
  },
  {
   "cell_type": "code",
   "execution_count": 10,
   "metadata": {},
   "outputs": [],
   "source": [
    "links = []\n",
    "get_links('https://www.wikihow.com/Category:Computer-Monitors')"
   ]
  },
  {
   "cell_type": "code",
   "execution_count": 11,
   "metadata": {},
   "outputs": [
    {
     "data": {
      "text/plain": [
       "20"
      ]
     },
     "execution_count": 11,
     "metadata": {},
     "output_type": "execute_result"
    }
   ],
   "source": [
    "len(links)"
   ]
  },
  {
   "cell_type": "code",
   "execution_count": 12,
   "metadata": {},
   "outputs": [
    {
     "data": {
      "text/plain": [
       "['https://www.wikihow.com/Connect-a-Laptop-to-a-Monitor',\n",
       " 'https://www.wikihow.com/Switch-Monitors-1-and-2-on-a-PC',\n",
       " 'https://www.wikihow.com/Use-Your-TV-as-a-Second-Monitor-for-Your-Computer',\n",
       " 'https://www.wikihow.com/Fix-a-Stuck-Pixel-on-an-LCD-Monitor',\n",
       " 'https://www.wikihow.com/Repair-LCD-Monitors',\n",
       " 'https://www.wikihow.com/Connect-Two-Monitors',\n",
       " 'https://www.wikihow.com/Use-Your-TV-As-a-Computer-Monitor',\n",
       " 'https://www.wikihow.com/Measure-Monitor-Size',\n",
       " 'https://www.wikihow.com/Fix-a-Scratch-on-an-LCD-Screen',\n",
       " 'https://www.wikihow.com/Calibrate-Your-Monitor',\n",
       " 'https://www.wikihow.com/Adjust-Colors-on-an-LCD-Monitor',\n",
       " 'https://www.wikihow.com/Add-an-Additional-Monitor-to-Your-Computer',\n",
       " 'https://www.wikihow.com/Degauss-a-Computer-Monitor',\n",
       " 'https://www.wikihow.com/Discharge-a-CRT-Monitor',\n",
       " 'https://www.wikihow.com/Make-a-Monitor-256-Color',\n",
       " 'https://www.wikihow.com/Improve-Image-Quality-on-an-LCD-Monitor',\n",
       " 'https://www.wikihow.com/Adjust-LCD-Monitor-Height',\n",
       " 'https://www.wikihow.com/Clean-a-Flat-Panel-Monitor',\n",
       " 'https://www.wikihow.com/Extend-a-Netbook-to-an-External-Monitor',\n",
       " 'https://www.wikihow.com/Find-the-External-Measurement-of-a-Device%27s-Display-Screen']"
      ]
     },
     "execution_count": 12,
     "metadata": {},
     "output_type": "execute_result"
    }
   ],
   "source": [
    "links"
   ]
  },
  {
   "cell_type": "code",
   "execution_count": 14,
   "metadata": {},
   "outputs": [],
   "source": [
    "import pickle\n",
    "pickle.dump(links,open('html_links_monitors.pkl','wb'))"
   ]
  },
  {
   "cell_type": "code",
   "execution_count": null,
   "metadata": {},
   "outputs": [],
   "source": []
  }
 ],
 "metadata": {
  "kernelspec": {
   "display_name": "Python 3",
   "language": "python",
   "name": "python3"
  },
  "language_info": {
   "codemirror_mode": {
    "name": "ipython",
    "version": 3
   },
   "file_extension": ".py",
   "mimetype": "text/x-python",
   "name": "python",
   "nbconvert_exporter": "python",
   "pygments_lexer": "ipython3",
   "version": "3.6.7"
  }
 },
 "nbformat": 4,
 "nbformat_minor": 4
}

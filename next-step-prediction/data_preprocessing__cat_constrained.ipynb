{
 "cells": [
  {
   "cell_type": "code",
   "execution_count": 1,
   "metadata": {},
   "outputs": [],
   "source": [
    "import random\n",
    "import pickle\n",
    "from collections import namedtuple \n",
    "from sklearn.model_selection import train_test_split\n",
    "import numpy as np\n",
    "from tqdm import tqdm\n",
    "\n",
    "import itertools\n",
    "\n",
    "Transition = namedtuple('Transition', ['entity', 'property', 'value'])"
   ]
  },
  {
   "cell_type": "code",
   "execution_count": 2,
   "metadata": {},
   "outputs": [
    {
     "data": {
      "text/plain": [
       "3235"
      ]
     },
     "execution_count": 2,
     "metadata": {},
     "output_type": "execute_result"
    }
   ],
   "source": [
    "with open('data/tuples_v2_with_add_info.pkl', 'rb') as f:\n",
    "    d = pickle.load(f)\n",
    "    data = d['data']\n",
    "    topics_map = d['topics_map']\n",
    "    all_transitions_ = d['transitions']\n",
    "\n",
    "X, y, z = [], [], []\n",
    "\n",
    "for k, v in data.items():\n",
    "    z.append(f'{topics_map[k]}/{k}')\n",
    "    y.append(topics_map[k])\n",
    "    X.append(v)\n",
    "\n",
    "len(all_transitions_)"
   ]
  },
  {
   "cell_type": "code",
   "execution_count": 3,
   "metadata": {},
   "outputs": [
    {
     "data": {
      "text/plain": [
       "dict_keys(['Controllers', 'Headphones', 'Keyboards', 'Linux', 'Mac', 'Microphones', 'Monitors', 'OS', 'OSX', 'Printers', 'Scanners', 'Ubuntu', 'Webcams', 'Windows', 'Windows10'])"
      ]
     },
     "execution_count": 3,
     "metadata": {},
     "output_type": "execute_result"
    }
   ],
   "source": [
    "all_transitions = {}\n",
    "\n",
    "for cat, proc in zip(z, X):\n",
    "    cat = cat.split('/')[0]\n",
    "    if cat not in all_transitions:\n",
    "        all_transitions[cat] = {}\n",
    "    for step in proc:\n",
    "        for transition in step:\n",
    "            all_transitions[cat][transition] = all_transitions[cat].get(transition, 0) + 1\n",
    "\n",
    "\n",
    "all_transitions.keys()\n"
   ]
  },
  {
   "cell_type": "code",
   "execution_count": 12,
   "metadata": {},
   "outputs": [
    {
     "name": "stdout",
     "output_type": "stream",
     "text": [
      "Windows Transition(entity='uninstall', property='isSettingsChanged', value='True')\n",
      "Windows10 Transition(entity='uninstall', property='isOpened', value='True')\n",
      "Windows10 Transition(entity='uninstall', property='isSettingsChanged', value='True')\n"
     ]
    }
   ],
   "source": [
    "for k, v in all_transitions.items():\n",
    "    # print(k)\n",
    "    for x in v:\n",
    "        if x.entity=='uninstall':\n",
    "            print(k, x)"
   ]
  },
  {
   "cell_type": "code",
   "execution_count": 6,
   "metadata": {},
   "outputs": [
    {
     "name": "stdout",
     "output_type": "stream",
     "text": [
      "Length 8 > 5. Skipping...\n",
      "Length 6 > 5. Skipping...\n",
      "Length 15 > 5. Skipping...\n",
      "Length 6 > 5. Skipping...\n",
      "Length 7 > 5. Skipping...\n",
      "Length 11 > 5. Skipping...\n",
      "Length 9 > 5. Skipping...\n",
      "Length 8 > 5. Skipping...\n",
      "Length 6 > 5. Skipping...\n",
      "Length 7 > 5. Skipping...\n",
      "Length 6 > 5. Skipping...\n",
      "Length 6 > 5. Skipping...\n",
      "Length 6 > 5. Skipping...\n",
      "Length 11 > 5. Skipping...\n",
      "Length 6 > 5. Skipping...\n",
      "Length 7 > 5. Skipping...\n",
      "Length 6 > 5. Skipping...\n",
      "Length 6 > 5. Skipping...\n",
      "Length 6 > 5. Skipping...\n",
      "Length 6 > 5. Skipping...\n",
      "Length 6 > 5. Skipping...\n",
      "\n",
      "\n",
      "1243 procedures --> 1222\n"
     ]
    }
   ],
   "source": [
    "# Drop if there are more than `thresh` transitions in a single step\n",
    "\n",
    "X_, y_, z_ = [], [], []\n",
    "thresh = 5\n",
    "\n",
    "for i, j, k in zip(X,y,z):\n",
    "    ignore = False\n",
    "    for s in i:\n",
    "        if len(s) > thresh:\n",
    "            print(f'Length {len(s)} > {thresh}. Skipping...')\n",
    "            ignore = True\n",
    "            break\n",
    "    if not ignore:\n",
    "        X_.append(i)\n",
    "        y_.append(j)\n",
    "        z_.append(k)\n",
    "\n",
    "    \n",
    "\n",
    "print(f'\\n\\n{len(X)} procedures --> {len(X_)}')\n",
    "    \n",
    "X, y, z = X_, y_, z_\n"
   ]
  },
  {
   "cell_type": "code",
   "execution_count": 7,
   "metadata": {},
   "outputs": [
    {
     "data": {
      "text/plain": [
       "(934, 104, 184)"
      ]
     },
     "execution_count": 7,
     "metadata": {},
     "output_type": "execute_result"
    }
   ],
   "source": [
    "# Get train, val, test split in ratio 0.75:0.1:0.15 of data_v\n",
    "X_train, X_test, y_train, y_test, z_train, z_test = train_test_split(X, y, z, test_size=0.15, random_state=42, stratify=y, shuffle=True)\n",
    "X_train, X_val, y_train, y_val, z_train, z_val = train_test_split(X_train, y_train, z_train, test_size=0.1, random_state=42, stratify=y_train, shuffle=True)\n",
    "\n",
    "\n",
    "len(X_train), len(X_val), len(X_test)"
   ]
  },
  {
   "cell_type": "code",
   "execution_count": 8,
   "metadata": {},
   "outputs": [
    {
     "data": {
      "text/plain": [
       "'Ubuntu/686_1___Write_a_Shell_Script_Using_Bash_Shell_in_Ubuntu___Steps'"
      ]
     },
     "execution_count": 8,
     "metadata": {},
     "output_type": "execute_result"
    }
   ],
   "source": [
    "z_val[30]"
   ]
  },
  {
   "cell_type": "code",
   "execution_count": 9,
   "metadata": {},
   "outputs": [
    {
     "data": {
      "text/plain": [
       "[[Transition(entity='start', property='isOpened', value='True'),\n",
       "  Transition(entity='xbox', property='isOpened', value='True')],\n",
       " [Transition(entity='setting', property='isOpened', value='True')],\n",
       " [Transition(entity='game dvr', property='isOpened', value='True')],\n",
       " [Transition(entity='game dvr', property='isSettingsChanged', value='True')],\n",
       " [Transition(entity='open folder', property='isOpened', value='True')]]"
      ]
     },
     "execution_count": 9,
     "metadata": {},
     "output_type": "execute_result"
    }
   ],
   "source": [
    "# sample\n",
    "\n",
    "X_train[0]"
   ]
  },
  {
   "cell_type": "code",
   "execution_count": null,
   "metadata": {},
   "outputs": [],
   "source": []
  },
  {
   "cell_type": "code",
   "execution_count": 10,
   "metadata": {},
   "outputs": [],
   "source": [
    "def traverse(procedure):\n",
    "    return tuple([transition for step in procedure for transition in step])\n",
    "\n",
    "def get_traversals(procedures):\n",
    "    return [traverse(procedure) for procedure in procedures]\n",
    "    "
   ]
  },
  {
   "cell_type": "code",
   "execution_count": 11,
   "metadata": {},
   "outputs": [],
   "source": [
    "def traverse_all_combinations(procedure):\n",
    "    res = None\n",
    "    for step in procedure:\n",
    "        step_allcomb = list(itertools.permutations(step))\n",
    "        if res is None:\n",
    "            res = step_allcomb\n",
    "        else:\n",
    "            res = [s + t for s in res for t in step_allcomb]\n",
    "    return res\n",
    "\n",
    "def get_traversals_all_combinations(procedures):\n",
    "    return list(itertools.chain(*[traverse_all_combinations(procedure) for procedure in tqdm(procedures)]))\n",
    "    "
   ]
  },
  {
   "cell_type": "code",
   "execution_count": 12,
   "metadata": {},
   "outputs": [],
   "source": [
    "# traverse([\n",
    "#     ['1.1'],\n",
    "#     ['2.1', '2.2'],\n",
    "#     ['3.1', '3.2', '3.3'],\n",
    "#     ['4.1']\n",
    "# ])"
   ]
  },
  {
   "cell_type": "code",
   "execution_count": 13,
   "metadata": {},
   "outputs": [],
   "source": [
    "# traverse_all_combinations([\n",
    "#     ['1.1'],\n",
    "#     ['2.1', '2.2'],\n",
    "#     ['3.1', '3.2', '3.3'],\n",
    "#     ['4.1']\n",
    "# ])"
   ]
  },
  {
   "cell_type": "code",
   "execution_count": 14,
   "metadata": {},
   "outputs": [],
   "source": [
    "# get_traversals([\n",
    "#     [\n",
    "#         ['1.1'],\n",
    "#         ['2.1', '2.2', '2.3'],\n",
    "#         ['3.1', '3.2'],\n",
    "#     ],\n",
    "#     [\n",
    "#         ['1.1', '1.2'],\n",
    "#         ['2.1', '2.2','2.3'],\n",
    "#     ]\n",
    "# ])"
   ]
  },
  {
   "cell_type": "code",
   "execution_count": 15,
   "metadata": {},
   "outputs": [],
   "source": [
    "# get_traversals_all_combinations([\n",
    "#     [\n",
    "#         ['1.1'],\n",
    "#         ['2.1'],\n",
    "#         ['3.1', '3.2'],\n",
    "#     ],\n",
    "#     [\n",
    "#         ['1.1', '1.2'],\n",
    "#         ['2.1', '2.2','2.3'],\n",
    "#     ]\n",
    "# ])"
   ]
  },
  {
   "cell_type": "code",
   "execution_count": 16,
   "metadata": {},
   "outputs": [],
   "source": [
    "# get one traversal\n",
    "\n",
    "train = get_traversals(X_train)\n",
    "val = get_traversals(X_val)\n",
    "test = get_traversals(X_test)"
   ]
  },
  {
   "cell_type": "code",
   "execution_count": 17,
   "metadata": {},
   "outputs": [
    {
     "name": "stderr",
     "output_type": "stream",
     "text": [
      "100%|██████████| 934/934 [00:05<00:00, 178.20it/s]\n",
      "100%|██████████| 104/104 [00:00<00:00, 1436.13it/s]\n",
      "100%|██████████| 184/184 [00:00<00:00, 6240.21it/s]\n"
     ]
    },
    {
     "data": {
      "text/plain": [
       "(721133, 2872, 29928)"
      ]
     },
     "execution_count": 17,
     "metadata": {},
     "output_type": "execute_result"
    }
   ],
   "source": [
    "train_all_combinations = get_traversals_all_combinations(X_train)\n",
    "val_all_combinations = get_traversals_all_combinations(X_val)\n",
    "test_all_combinations = get_traversals_all_combinations(X_test)\n",
    "\n",
    "all_transitions_all_combinations = list(train_all_combinations + val_all_combinations + test_all_combinations)\n",
    "\n",
    "len(train_all_combinations), len(val_all_combinations), len(test_all_combinations)"
   ]
  },
  {
   "cell_type": "code",
   "execution_count": 18,
   "metadata": {},
   "outputs": [
    {
     "data": {
      "text/plain": [
       "(15, 753933)"
      ]
     },
     "execution_count": 18,
     "metadata": {},
     "output_type": "execute_result"
    }
   ],
   "source": [
    "len(all_transitions), len(all_transitions_all_combinations)"
   ]
  },
  {
   "cell_type": "code",
   "execution_count": 19,
   "metadata": {},
   "outputs": [
    {
     "data": {
      "text/plain": [
       "(Transition(entity='start', property='isOpened', value='True'),\n",
       " Transition(entity='xbox', property='isOpened', value='True'),\n",
       " Transition(entity='setting', property='isOpened', value='True'),\n",
       " Transition(entity='game dvr', property='isOpened', value='True'),\n",
       " Transition(entity='game dvr', property='isSettingsChanged', value='True'),\n",
       " Transition(entity='open folder', property='isOpened', value='True'))"
      ]
     },
     "execution_count": 19,
     "metadata": {},
     "output_type": "execute_result"
    }
   ],
   "source": [
    "# sample\n",
    "train[0]"
   ]
  },
  {
   "cell_type": "code",
   "execution_count": null,
   "metadata": {},
   "outputs": [],
   "source": []
  },
  {
   "cell_type": "code",
   "execution_count": 20,
   "metadata": {},
   "outputs": [],
   "source": [
    "# # store the data\n",
    "# with open('processed_data/traversed_data.pkl', 'wb') as f:\n",
    "#     pickle.dump({'train': train, 'val': val, 'test': test}, f)"
   ]
  },
  {
   "cell_type": "markdown",
   "metadata": {},
   "source": [
    "## Start dataset preparation"
   ]
  },
  {
   "cell_type": "code",
   "execution_count": 21,
   "metadata": {},
   "outputs": [],
   "source": [
    "def _add_procedure_to_dataset(procedure, length, result, negative_transitions, procedure_name, num_negatives=5, split='train', cat=None):\n",
    "    '''\n",
    "    Given a `procedure`(format: [s1, s2, ..., sn]), add the `length`-length prefix to `results` with\n",
    "        `num_negatives` as the universe of negative samples in case of `split` in ['train'] and \n",
    "        `all_transitions` as the universe of negtaives when `split` in ['val', 'test'].\n",
    "    '''\n",
    "    assert 0 < length < len(procedure), \"Length of procedure must be between one and one less than the length of the procedure\"\n",
    "    assert split in ['train', 'val', 'test'], \"Split must be one of 'train', 'val', or 'test'\"\n",
    "\n",
    "    candidates = [procedure[length]]\n",
    "\n",
    "    if split == 'train':\n",
    "        if len(procedure) - length - 1 > num_negatives:\n",
    "            candidates.extend(random.sample(procedure[length+1:], num_negatives))\n",
    "        else:\n",
    "            candidates.extend(procedure[length+1:])\n",
    "            num_to_sample = num_negatives - len(procedure[length+1:])\n",
    "            if num_to_sample > 0:\n",
    "                candidates.extend(random.sample(negative_transitions, num_to_sample))\n",
    "    else:\n",
    "        # for testing... (uncomment this block)\n",
    "        # all_transitions = {'1': 0, '2': 0, '3': 0, '4': 0, '5': 0, '6': 0, '7': 0, '8': 0, '9': 0, '10': 0}\n",
    "        # all_transitions_all_combinations = [\n",
    "        #     ['1', '2', '3', '4', '5', '6', '7', '8'],\n",
    "        #     ['10', '1', '2', '3', '4'],\n",
    "        #     ['1', '2', '4']\n",
    "        # ]\n",
    "        negatives = set(all_transitions[cat].keys()).copy()\n",
    "        count = 0\n",
    "        for x in all_transitions_all_combinations:\n",
    "            if x[:length] == procedure[:length]:\n",
    "                if len(x) > length and x[length] in negatives:\n",
    "                    negatives.remove(x[length])\n",
    "                    count += 1\n",
    "        # print(f'Removed {count} negatives')\n",
    "        candidates.extend(list(negatives))\n",
    "            \n",
    "                \n",
    "\n",
    "    result.append({\n",
    "        'given': procedure[:length],\n",
    "        'next': candidates,\n",
    "        'answer': 0,\n",
    "        'procedure_name': procedure_name,\n",
    "    })\n",
    "\n",
    "    if split == 'train':\n",
    "        assert len(result[-1]['next']) == num_negatives + 1, \"Candidate length must be equal to the number of negatives + 1\"\n"
   ]
  },
  {
   "cell_type": "code",
   "execution_count": 22,
   "metadata": {},
   "outputs": [],
   "source": [
    "# # testing...\n",
    "# # uncomment the block in the `_add_procedure_to_dataset()`` function if used\n",
    "\n",
    "# random.seed(42)\n",
    "# procedure = ['1', '2', '3', '4', '5', '6', '7', '8']\n",
    "\n",
    "# result = []\n",
    "# _add_procedure_to_dataset(procedure, 2, result, all_transitions.keys(), split='test')\n",
    "\n",
    "# result"
   ]
  },
  {
   "cell_type": "code",
   "execution_count": 23,
   "metadata": {},
   "outputs": [],
   "source": [
    "def sampling(data, procedure_names, lower_bound=3, upper_bound=7, sampling_prob_1=0.25, split='train'):\n",
    "    '''\n",
    "    Prepare the `data` for the `split` type.\n",
    "    Buckets-- [1,1], [2,lower_bound], [lower_bound+1,*]\n",
    "    \n",
    "    @NOTE: upper_bound is dropped\n",
    "    '''\n",
    "\n",
    "    assert lower_bound >= 2\n",
    "    random.seed(42)\n",
    "    result = []\n",
    "\n",
    "    for procedure, procedure_name in (zip(tqdm(data), procedure_names)):\n",
    "        proc_length = len(procedure)\n",
    "        if proc_length <= 1:\n",
    "            continue\n",
    "\n",
    "        # construct the possible negatives\n",
    "        negative_transitions = [t for t in all_transitions_ if t not in set(procedure)]\n",
    "\n",
    "        # add length-1 as \"given sequence\"\n",
    "        _add_procedure_to_dataset(procedure, proc_length - 1, result, negative_transitions, procedure_name, split=split, cat=procedure_name.split('/')[0])\n",
    "\n",
    "        # sample smaller lengths\n",
    "        # if proc_length <= lower_bound:\n",
    "        #     _add_procedure_to_dataset(procedure, proc_length - 1, sampled_transitions, result)\n",
    "        # else:\n",
    "\n",
    "        # just sample required number of transitions\n",
    "        for given_length in range(lower_bound - 1, proc_length - 1):\n",
    "            if random.random() < sampling_prob_1:\n",
    "                _add_procedure_to_dataset(procedure, given_length, result, negative_transitions, procedure_name, split=split, cat=procedure_name.split('/')[0])\n",
    "\n",
    "    return result\n"
   ]
  },
  {
   "cell_type": "code",
   "execution_count": 24,
   "metadata": {},
   "outputs": [
    {
     "name": "stderr",
     "output_type": "stream",
     "text": [
      "100%|██████████| 934/934 [00:02<00:00, 329.32it/s]\n",
      "100%|██████████| 104/104 [01:03<00:00,  1.64it/s]\n",
      "100%|██████████| 184/184 [01:33<00:00,  1.98it/s]\n"
     ]
    },
    {
     "data": {
      "text/plain": [
       "(1504, 179, 290)"
      ]
     },
     "execution_count": 24,
     "metadata": {},
     "output_type": "execute_result"
    }
   ],
   "source": [
    "_train = sampling(train, z_train, split='train')\n",
    "_val = sampling(val, z_val, split='val')\n",
    "_test = sampling(test, z_test, split='test')\n",
    "\n",
    "len(_train), len(_val), len(_test)\n"
   ]
  },
  {
   "cell_type": "code",
   "execution_count": 25,
   "metadata": {},
   "outputs": [],
   "source": [
    "# # sanity check\n",
    "# for i, x in enumerate(_val):\n",
    "#     if len(x['next']) != 3235:\n",
    "#         print(i, len(x['next']))"
   ]
  },
  {
   "cell_type": "code",
   "execution_count": 26,
   "metadata": {},
   "outputs": [
    {
     "data": {
      "text/plain": [
       "[Transition(entity='open folder', property='isOpened', value='True'),\n",
       " Transition(entity='configure unallocated disk space', property='isOpened', value='True'),\n",
       " Transition(entity='netmask', property='isSettingsChanged', value='True'),\n",
       " Transition(entity='\" change you language preference \" menu', property='isOpened', value='True'),\n",
       " Transition(entity='microsoft app store', property='isOpened', value='True'),\n",
       " Transition(entity='mainmenu.xib', property='isOpened', value='True')]"
      ]
     },
     "execution_count": 26,
     "metadata": {},
     "output_type": "execute_result"
    }
   ],
   "source": [
    "_train[0]['next']"
   ]
  },
  {
   "cell_type": "code",
   "execution_count": null,
   "metadata": {},
   "outputs": [],
   "source": []
  },
  {
   "cell_type": "code",
   "execution_count": 27,
   "metadata": {},
   "outputs": [],
   "source": [
    "# store the data\n",
    "with open('processed_data/sampled.0_25.new.cat_constrained.pkl', 'wb') as f:\n",
    "    pickle.dump({'train': _train, 'val': _val, 'test': _test}, f)"
   ]
  },
  {
   "cell_type": "markdown",
   "metadata": {},
   "source": [
    "### Some Analysis"
   ]
  },
  {
   "cell_type": "code",
   "execution_count": 23,
   "metadata": {},
   "outputs": [
    {
     "data": {
      "text/plain": [
       "((934, 104, 184), (1504, 179, 290))"
      ]
     },
     "execution_count": 23,
     "metadata": {},
     "output_type": "execute_result"
    }
   ],
   "source": [
    "(len(X_train), len(X_val), len(X_test)), (len(_train), len(_val), len(_test))"
   ]
  },
  {
   "cell_type": "code",
   "execution_count": 24,
   "metadata": {},
   "outputs": [],
   "source": [
    "def get_distribution_of_lengths(arr):\n",
    "    lengths = [len(x['given']) for x in arr]\n",
    "    counts = np.bincount(lengths)\n",
    "    return counts\n",
    "\n",
    "## get_distribution_of_lengths(_train), get_distribution_of_lengths(_val), get_distribution_of_lengths(_test)"
   ]
  },
  {
   "cell_type": "code",
   "execution_count": 25,
   "metadata": {},
   "outputs": [],
   "source": [
    "#  def test_delimiters():\n",
    "#     data_ = get_traversals(X)\n",
    "\n",
    "#     # check if ':::' present in data\n",
    "#     for procedure in data_:\n",
    "#         for transition in procedure:\n",
    "#             for elements in transition:\n",
    "#                 if '###' in elements:\n",
    "#                     print(transition)\n",
    "#                     break\n",
    "    \n",
    "# # test_delimiters()"
   ]
  },
  {
   "cell_type": "code",
   "execution_count": 26,
   "metadata": {},
   "outputs": [],
   "source": [
    "# # incase we want to generate a text file\n",
    "# def to_text(data):\n",
    "#     result = []\n",
    "#     for procedure in data:\n",
    "#         datapoints = ' ::::: '.join([f'{x.entity}:::{x.property}:::{x.value}' for x in procedure['given']])\n",
    "#         for idx, next in enumerate(procedure['next']):\n",
    "#             result.append(f'{datapoints}\\t:::::::\\t{next.entity}:::{next.property}:::{next.value}\\t:::::::\\t{str(int(idx==procedure[\"answer\"]))}')\n",
    "#     return result\n",
    "#\n",
    "# # print(*to_text([_train[0]]), sep='\\n')"
   ]
  },
  {
   "cell_type": "code",
   "execution_count": 27,
   "metadata": {},
   "outputs": [
    {
     "name": "stdout",
     "output_type": "stream",
     "text": [
      "0;0\n",
      "1;99\n",
      "2;294\n",
      "3;285\n",
      "4;232\n",
      "5;174\n",
      "6;125\n",
      "7;83\n",
      "8;67\n",
      "9;38\n",
      "10;30\n",
      "11;22\n",
      "12;16\n",
      "13;12\n",
      "14;8\n",
      "15;7\n",
      "16;2\n",
      "17;4\n",
      "18;1\n",
      "19;2\n",
      "20;1\n",
      "21;1\n",
      "22;0\n",
      "23;1\n"
     ]
    }
   ],
   "source": [
    "def pretty_print_array(arr):\n",
    "    for idx, item in enumerate(arr):\n",
    "        print(idx, item, sep=';')\n",
    "\n",
    "pretty_print_array(get_distribution_of_lengths(_train))"
   ]
  },
  {
   "cell_type": "code",
   "execution_count": null,
   "metadata": {},
   "outputs": [],
   "source": [
    "\n",
    "\n"
   ]
  }
 ],
 "metadata": {
  "interpreter": {
   "hash": "aee8b7b246df8f9039afb4144a1f6fd8d2ca17a180786b69acc140d282b71a49"
  },
  "kernelspec": {
   "display_name": "Python 3 (ipykernel)",
   "language": "python",
   "name": "python3"
  },
  "language_info": {
   "codemirror_mode": {
    "name": "ipython",
    "version": 3
   },
   "file_extension": ".py",
   "mimetype": "text/x-python",
   "name": "python",
   "nbconvert_exporter": "python",
   "pygments_lexer": "ipython3",
   "version": "3.7.2"
  }
 },
 "nbformat": 4,
 "nbformat_minor": 2
}

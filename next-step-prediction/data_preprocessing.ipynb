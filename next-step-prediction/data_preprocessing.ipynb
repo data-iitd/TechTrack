{
 "cells": [
  {
   "cell_type": "code",
   "execution_count": 14,
   "metadata": {},
   "outputs": [],
   "source": [
    "import random\n",
    "import pickle\n",
    "from collections import namedtuple \n",
    "from sklearn.model_selection import train_test_split\n",
    "import numpy as np\n",
    "\n",
    "Transition = namedtuple('Transition',['entity', 'property', 'value'])"
   ]
  },
  {
   "cell_type": "code",
   "execution_count": 15,
   "metadata": {},
   "outputs": [],
   "source": [
    "with open('data/tuples_v2_with_add_info.pkl', 'rb') as f:\n",
    "    d = pickle.load(f)\n",
    "    data = d['data']\n",
    "    topics_map = d['topics_map']\n",
    "    all_transitions = d['transitions']\n",
    "\n",
    "X, y = [], []\n",
    "\n",
    "for k, v in data.items():\n",
    "    y.append(topics_map[k])\n",
    "    X.append(v)\n"
   ]
  },
  {
   "cell_type": "code",
   "execution_count": 16,
   "metadata": {},
   "outputs": [],
   "source": [
    "# Get train, val, test split in ratio 0.75:0.1:0.15 of data_v\n",
    "X_train, X_test, y_train, _ = train_test_split(X, y, test_size=0.15, random_state=42, stratify=y, shuffle=True)\n",
    "X_train, X_val = train_test_split(X_train, test_size=0.1, random_state=42, stratify=y_train, shuffle=True)\n"
   ]
  },
  {
   "cell_type": "code",
   "execution_count": 17,
   "metadata": {},
   "outputs": [
    {
     "data": {
      "text/plain": [
       "(950, 106, 187)"
      ]
     },
     "execution_count": 17,
     "metadata": {},
     "output_type": "execute_result"
    }
   ],
   "source": [
    "len(X_train), len(X_val), len(X_test)"
   ]
  },
  {
   "cell_type": "code",
   "execution_count": null,
   "metadata": {},
   "outputs": [],
   "source": []
  },
  {
   "cell_type": "code",
   "execution_count": 18,
   "metadata": {},
   "outputs": [],
   "source": [
    "def traverse(procedure):\n",
    "    return [transition for step in procedure for transition in step]\n",
    "\n",
    "def get_traversals(procedures):\n",
    "    return [traverse(procedure) for procedure in procedures]\n",
    "    "
   ]
  },
  {
   "cell_type": "code",
   "execution_count": 19,
   "metadata": {},
   "outputs": [
    {
     "data": {
      "text/plain": [
       "['1.1', '2.1', '2.2', '3.1', '3.2', '3.3', '4.1']"
      ]
     },
     "execution_count": 19,
     "metadata": {},
     "output_type": "execute_result"
    }
   ],
   "source": [
    "traverse([\n",
    "    ['1.1'],\n",
    "    ['2.1', '2.2'],\n",
    "    ['3.1', '3.2', '3.3'],\n",
    "    ['4.1']\n",
    "])"
   ]
  },
  {
   "cell_type": "code",
   "execution_count": 20,
   "metadata": {},
   "outputs": [
    {
     "data": {
      "text/plain": [
       "[['1.1', '2.1', '2.2', '3.1', '3.2', '3.3'], ['1.1', '2.1', '2.2', '2.3']]"
      ]
     },
     "execution_count": 20,
     "metadata": {},
     "output_type": "execute_result"
    }
   ],
   "source": [
    "get_traversals([\n",
    "    [\n",
    "        ['1.1'],\n",
    "        ['2.1', '2.2'],\n",
    "        ['3.1', '3.2', '3.3'],\n",
    "    ],\n",
    "    [\n",
    "        ['1.1'],\n",
    "        ['2.1', '2.2','2.3'],\n",
    "    ]\n",
    "])"
   ]
  },
  {
   "cell_type": "code",
   "execution_count": 21,
   "metadata": {},
   "outputs": [],
   "source": [
    "train = get_traversals(X_train)\n",
    "val = get_traversals(X_val)\n",
    "test = get_traversals(X_test)"
   ]
  },
  {
   "cell_type": "code",
   "execution_count": 22,
   "metadata": {},
   "outputs": [],
   "source": [
    "# store the data\n",
    "with open('processed_data/traversed_data.pkl', 'wb') as f:\n",
    "    pickle.dump({'train': train, 'val': val, 'test': test}, f)"
   ]
  },
  {
   "cell_type": "code",
   "execution_count": 12,
   "metadata": {},
   "outputs": [],
   "source": []
  },
  {
   "cell_type": "code",
   "execution_count": 23,
   "metadata": {},
   "outputs": [],
   "source": [
    "def _add_procedure_to_dataset(procedure, length, negatives, result):\n",
    "    # print(procedure, length, negatives)\n",
    "    assert 0 < length < len(procedure), \"Length of procedure must be between one and one less than the length of the procedure\"\n",
    "    negatives_length = len(negatives) - (len(procedure) - length) + 1\n",
    "    result.append({\n",
    "        'given': procedure[:length],\n",
    "        'next': procedure[length:] + negatives[:negatives_length],\n",
    "        'answer': 0,\n",
    "    })\n"
   ]
  },
  {
   "cell_type": "code",
   "execution_count": 24,
   "metadata": {},
   "outputs": [],
   "source": [
    "\n",
    "\n",
    "# def sampling1(data):\n",
    "#     random.seed(42)\n",
    "#     result = []\n",
    "#     for procedure in data:\n",
    "#         # randomly sample 5 transitions that is not in current procedure\n",
    "#         negative_transitions = [t for t in all_transitions if t not in set(procedure)]\n",
    "#         sampled_transitions = random.sample(negative_transitions, 5)\n",
    "\n",
    "#         if len(procedure) <= 1:\n",
    "#             continue\n",
    "#         elif len(procedure) <= 2:\n",
    "#             result.append({'given': [procedure[0]], 'next': [procedure[1]]+sampled_transitions, 'answer': 0})\n",
    "#         elif len(procedure) <= 3:\n",
    "#             result.append({'given': [procedure[0], procedure[1]], 'next': [procedure[2]]+sampled_transitions, 'answer': 0})\n",
    "#         elif len(procedure) <= 4:\n",
    "#             # generate a random number between 2 and 3 with probability 0.9 and 0.1\n",
    "#             if random.random() <= 0.15:\n",
    "#                 result.append({'given': [procedure[0], procedure[1]], 'next': [procedure[2], procedure[3]]+sampled_transitions[:4], 'answer': 0})\n",
    "#             result.append({'given': [procedure[0], procedure[1], procedure[2]], 'next': [procedure[3]]+sampled_transitions, 'answer': 0})\n",
    "#         elif len(procedure) <= 5:\n",
    "#             if random.random() <= 0.15:\n",
    "#                 result.append({'given': [procedure[0], procedure[1]], 'next': [procedure[2], procedure[3], procedure[4]]+sampled_transitions[:3], 'answer': 0})\n",
    "#             elif random.random() <= 0.3:\n",
    "#                 result.append({'given': [procedure[0], procedure[1], procedure[2]], 'next': [procedure[3], procedure[4]]+sampled_transitions[:4], 'answer': 0})\n",
    "#             result.append({'given': [procedure[0], procedure[1], procedure[2], procedure[3]], 'next': [procedure[4]]+sampled_transitions, 'answer': 0})\n",
    "#         elif len(procedure) <= 6:\n",
    "#             if random.random() <= 0.15:\n",
    "#                 result.append({'given': [procedure[0], procedure[1]], 'next': [procedure[2], procedure[3], procedure[4], procedure[5]]+sampled_transitions[:2], 'answer': 0})\n",
    "#             elif random.random() <= 0.3:\n",
    "#                 result.append({'given': [procedure[0], procedure[1], procedure[2]], 'next': [procedure[3], procedure[4], procedure[5]]+sampled_transitions[:3], 'answer': 0})\n",
    "#             elif random.random() <= 0.45:\n",
    "#                 result.append({'given': [procedure[0], procedure[1], procedure[2], procedure[3]], 'next': [procedure[4], procedure[5]]+sampled_transitions[:4], 'answer': 0})\n",
    "#             result.append({'given': [procedure[0], procedure[1], procedure[2], procedure[3], procedure[4]], 'next': [procedure[5]]+sampled_transitions, 'answer': 0})\n",
    "#         elif len(procedure) <= 7:\n",
    "#             if random.random() <= 0.15:\n",
    "#                 result.append({'given': [procedure[0], procedure[1]], 'next': [procedure[2], procedure[3], procedure[4], procedure[5], procedure[6]]+sampled_transitions[:1], 'answer': 0})\n",
    "#             elif random.random() <= 0.3:\n",
    "#                 result.append({'given': [procedure[0], procedure[1], procedure[2]], 'next': [procedure[3], procedure[4], procedure[5], procedure[6]]+sampled_transitions[:2], 'answer': 0})\n",
    "#             elif random.random() <= 0.45:\n",
    "#                 result.append({'given': [procedure[0], procedure[1], procedure[2], procedure[3]], 'next': [procedure[4], procedure[5], procedure[6]]+sampled_transitions[:3], 'answer': 0})\n",
    "#             elif random.random() <= 0.6:\n",
    "#                 result.append({'given': [procedure[0], procedure[1], procedure[2], procedure[3], procedure[4]], 'next': [procedure[5], procedure[6]]+sampled_transitions[:4], 'answer': 0})\n",
    "#             result.append({'given': [procedure[0], procedure[1], procedure[2], procedure[3], procedure[4], procedure[5]], 'next': [procedure[6]]+sampled_transitions, 'answer': 0})\n",
    "#         else:\n",
    "#             # randomly choose the number of steps to retain\n",
    "#             retain_num = random.randint(4, len(procedure)-1)\n",
    "#             result.append({'given': [procedure[i] for i in range(retain_num)], 'next': ([procedure[i] for i in range(retain_num, len(procedure))]+sampled_transitions)[:6], 'answer': 0})\n",
    "#             retain_num_2 = random.randint(4, len(procedure)-1)\n",
    "#             while retain_num_2 == retain_num:\n",
    "#                 retain_num_2 = random.randint(5, len(procedure)-1)\n",
    "#             result.append({'given': [procedure[i] for i in range(retain_num_2)], 'next': ([procedure[i] for i in range(retain_num_2, len(procedure))]+sampled_transitions)[:6], 'answer': 0})\n",
    "#     return result\n"
   ]
  },
  {
   "cell_type": "code",
   "execution_count": 25,
   "metadata": {},
   "outputs": [],
   "source": [
    "\n",
    "\n",
    "def sampling(data, lower_bound=3, upper_bound=7, sampling_prob_1=0.25):\n",
    "    # @NOTE: [1,1], [2,lower_bound], [lower_bound+1,upper_bound], [upper_bound,*]\n",
    "    assert lower_bound >= 2\n",
    "    random.seed(42)\n",
    "    result = []\n",
    "    for procedure in data:\n",
    "        # randomly sample 5 transitions that is not in current procedure\n",
    "        negative_transitions = [t for t in all_transitions if t not in set(procedure)]\n",
    "        sampled_transitions = random.sample(negative_transitions, 5)\n",
    "        proc_length = len(procedure)\n",
    "        if proc_length <= 1:\n",
    "            continue\n",
    "        elif proc_length <= lower_bound:\n",
    "            _add_procedure_to_dataset(procedure, proc_length - 1, sampled_transitions, result)\n",
    "        elif proc_length <= upper_bound:\n",
    "            random_num = random.random()\n",
    "            for given_length in range(lower_bound - 1, proc_length - 1):\n",
    "                # if (given_length-lower_bound+1)*sampling_prob_1 < random.random() <= (given_length-lower_bound+2)*sampling_prob_1:\n",
    "                if random_num < (given_length-lower_bound+2)*sampling_prob_1:\n",
    "                    _add_procedure_to_dataset(procedure, given_length, sampled_transitions, result)\n",
    "                    break\n",
    "            _add_procedure_to_dataset(procedure, proc_length - 1, sampled_transitions, result)\n",
    "        else:\n",
    "            # randomly choose the number of steps to retain\n",
    "            retain_num = random.randint(4, len(procedure)-1)\n",
    "            result.append({'given': [procedure[i] for i in range(retain_num)], 'next': ([procedure[i] for i in range(retain_num, len(procedure))]+sampled_transitions)[:6], 'answer': 0})\n",
    "            retain_num_2 = random.randint(4, len(procedure)-1)\n",
    "            while retain_num_2 == retain_num:\n",
    "                retain_num_2 = random.randint(5, len(procedure)-1)\n",
    "            result.append({'given': [procedure[i] for i in range(retain_num_2)], 'next': ([procedure[i] for i in range(retain_num_2, len(procedure))]+sampled_transitions)[:6], 'answer': 0})\n",
    "    return result\n"
   ]
  },
  {
   "cell_type": "code",
   "execution_count": 26,
   "metadata": {},
   "outputs": [],
   "source": [
    "_train = sampling(train)\n",
    "_val = sampling(val)\n",
    "_test = sampling(test)\n"
   ]
  },
  {
   "cell_type": "code",
   "execution_count": 27,
   "metadata": {},
   "outputs": [
    {
     "data": {
      "text/plain": [
       "(1348, 162, 266)"
      ]
     },
     "execution_count": 27,
     "metadata": {},
     "output_type": "execute_result"
    }
   ],
   "source": [
    "len(_train), len(_val), len(_test)"
   ]
  },
  {
   "cell_type": "code",
   "execution_count": null,
   "metadata": {},
   "outputs": [],
   "source": []
  },
  {
   "cell_type": "code",
   "execution_count": 28,
   "metadata": {},
   "outputs": [],
   "source": [
    "def get_distribution_of_lengths(arr):\n",
    "    lengths = [len(x['given']) for x in arr]\n",
    "    counts = np.bincount(lengths)\n",
    "    return counts\n",
    "\n",
    "## get_distribution_of_lengths(_train), get_distribution_of_lengths(_val), get_distribution_of_lengths(_test)"
   ]
  },
  {
   "cell_type": "code",
   "execution_count": 29,
   "metadata": {},
   "outputs": [
    {
     "data": {
      "text/plain": [
       "((950, 106, 187), (1348, 162, 266))"
      ]
     },
     "execution_count": 29,
     "metadata": {},
     "output_type": "execute_result"
    }
   ],
   "source": [
    "(len(X_train), len(X_val), len(X_test)), (len(_train), len(_val), len(_test))"
   ]
  },
  {
   "cell_type": "code",
   "execution_count": 30,
   "metadata": {},
   "outputs": [],
   "source": [
    "# _train[0]"
   ]
  },
  {
   "cell_type": "code",
   "execution_count": null,
   "metadata": {},
   "outputs": [],
   "source": []
  },
  {
   "cell_type": "code",
   "execution_count": 31,
   "metadata": {},
   "outputs": [],
   "source": [
    " def test_delimiters():\n",
    "    data_ = get_traversals(X)\n",
    "\n",
    "    # check if ':::' present in data\n",
    "    for procedure in data_:\n",
    "        for transition in procedure:\n",
    "            for elements in transition:\n",
    "                if '###' in elements:\n",
    "                    print(transition)\n",
    "                    break\n",
    "    \n",
    "# test_delimiters()"
   ]
  },
  {
   "cell_type": "code",
   "execution_count": 32,
   "metadata": {},
   "outputs": [],
   "source": [
    "def to_text(data):\n",
    "    result = []\n",
    "    for procedure in data:\n",
    "        datapoints = ' ::::: '.join([f'{x.entity}:::{x.property}:::{x.value}' for x in procedure['given']])\n",
    "        for idx, next in enumerate(procedure['next']):\n",
    "            result.append(f'{datapoints}\\t:::::::\\t{next.entity}:::{next.property}:::{next.value}\\t:::::::\\t{str(int(idx==procedure[\"answer\"]))}')\n",
    "    return result\n",
    "\n"
   ]
  },
  {
   "cell_type": "code",
   "execution_count": 33,
   "metadata": {},
   "outputs": [],
   "source": [
    "## print(*to_text([_train[0]]), sep='\\n')"
   ]
  },
  {
   "cell_type": "code",
   "execution_count": 34,
   "metadata": {},
   "outputs": [],
   "source": [
    "# # store the data\n",
    "# with open('processed_data/sampled.0_25.pkl', 'wb') as f:\n",
    "#     pickle.dump({'train': _train, 'val': _val, 'test': _test}, f)"
   ]
  },
  {
   "cell_type": "code",
   "execution_count": 35,
   "metadata": {},
   "outputs": [],
   "source": [
    "def pretty_print_array(arr):\n",
    "    for idx, item in enumerate(arr):\n",
    "        print(idx, item, sep='\\t')\n"
   ]
  },
  {
   "cell_type": "code",
   "execution_count": 36,
   "metadata": {},
   "outputs": [
    {
     "name": "stdout",
     "output_type": "stream",
     "text": [
      "0\t0\n",
      "1\t101\n",
      "2\t242\n",
      "3\t232\n",
      "4\t247\n",
      "5\t190\n",
      "6\t160\n",
      "7\t57\n",
      "8\t43\n",
      "9\t25\n",
      "10\t18\n",
      "11\t11\n",
      "12\t9\n",
      "13\t5\n",
      "14\t3\n",
      "15\t2\n",
      "16\t0\n",
      "17\t0\n",
      "18\t0\n",
      "19\t0\n",
      "20\t0\n",
      "21\t1\n",
      "22\t0\n",
      "23\t1\n",
      "24\t0\n",
      "25\t0\n",
      "26\t0\n",
      "27\t0\n",
      "28\t0\n",
      "29\t0\n",
      "30\t0\n",
      "31\t0\n",
      "32\t0\n",
      "33\t0\n",
      "34\t0\n",
      "35\t1\n"
     ]
    }
   ],
   "source": [
    "\n",
    "\n",
    "pretty_print_array(get_distribution_of_lengths(_train))"
   ]
  },
  {
   "cell_type": "code",
   "execution_count": null,
   "metadata": {},
   "outputs": [],
   "source": []
  }
 ],
 "metadata": {
  "interpreter": {
   "hash": "aee8b7b246df8f9039afb4144a1f6fd8d2ca17a180786b69acc140d282b71a49"
  },
  "kernelspec": {
   "display_name": "Python 3 (ipykernel)",
   "language": "python",
   "name": "python3"
  },
  "language_info": {
   "codemirror_mode": {
    "name": "ipython",
    "version": 3
   },
   "file_extension": ".py",
   "mimetype": "text/x-python",
   "name": "python",
   "nbconvert_exporter": "python",
   "pygments_lexer": "ipython3",
   "version": "3.7.2"
  }
 },
 "nbformat": 4,
 "nbformat_minor": 2
}

{
 "cells": [
  {
   "cell_type": "code",
   "execution_count": 1,
   "metadata": {},
   "outputs": [],
   "source": [
    "import random\n",
    "import pickle\n",
    "from collections import namedtuple \n",
    "from sklearn.model_selection import train_test_split\n",
    "\n",
    "Transition = namedtuple('Transition',['entity', 'property', 'value'])"
   ]
  },
  {
   "cell_type": "code",
   "execution_count": 2,
   "metadata": {},
   "outputs": [],
   "source": [
    "with open('tuples_v2_with_topics.pkl', 'rb') as f:\n",
    "    d = pickle.load(f)\n",
    "    data = d['data']\n",
    "    topics_map = d['topics_map']"
   ]
  },
  {
   "cell_type": "code",
   "execution_count": null,
   "metadata": {},
   "outputs": [],
   "source": []
  },
  {
   "cell_type": "code",
   "execution_count": 3,
   "metadata": {},
   "outputs": [
    {
     "data": {
      "text/plain": [
       "('199_1___Test_Your_PS4_Controller___Steps',\n",
       " [[Transition(entity='controller', property='isConnected', value='True')],\n",
       "  [Transition(entity='menu', property='isOpened', value='True')],\n",
       "  [Transition(entity='control panel', property='isOpened', value='True'),\n",
       "   Transition(entity='run', property='isOpened', value='True')],\n",
       "  [Transition(entity='view device and printer', property='isOpened', value='True'),\n",
       "   Transition(entity='hardware and sound', property='isOpened', value='True')],\n",
       "  [Transition(entity='wireless controller', property='isOpened', value='True'),\n",
       "   Transition(entity='ps4', property='isConnected', value='True')],\n",
       "  [Transition(entity='game controller setting', property='isOpened', value='True')],\n",
       "  [Transition(entity='property', property='isOpened', value='True')]])"
      ]
     },
     "execution_count": 3,
     "metadata": {},
     "output_type": "execute_result"
    }
   ],
   "source": [
    "list(data.items())[0]"
   ]
  },
  {
   "cell_type": "code",
   "execution_count": 4,
   "metadata": {},
   "outputs": [],
   "source": [
    "data_k, data_v = [], []\n",
    "\n",
    "for k, v in data.items():\n",
    "    data_k.append(k)\n",
    "    data_v.append(v)\n"
   ]
  },
  {
   "cell_type": "code",
   "execution_count": null,
   "metadata": {},
   "outputs": [],
   "source": []
  },
  {
   "cell_type": "code",
   "execution_count": 5,
   "metadata": {},
   "outputs": [
    {
     "data": {
      "text/plain": [
       "330"
      ]
     },
     "execution_count": 5,
     "metadata": {},
     "output_type": "execute_result"
    }
   ],
   "source": [
    "ct = 0\n",
    "for procedure in data_v:\n",
    "    if len(procedure[0]) > 1: # or len(procedure[1]) > 1:\n",
    "        #print(el)\n",
    "        ct+=1\n",
    "ct"
   ]
  },
  {
   "cell_type": "code",
   "execution_count": null,
   "metadata": {},
   "outputs": [],
   "source": []
  },
  {
   "cell_type": "code",
   "execution_count": 6,
   "metadata": {},
   "outputs": [],
   "source": [
    "train, test = train_test_split(data_v,\n",
    "                               test_size=0.25,\n",
    "                               shuffle=True,\n",
    "                               random_state=42, \n",
    "                               stratify=[topics_map[x] for x in data_k],\n",
    "                              )"
   ]
  },
  {
   "cell_type": "code",
   "execution_count": 7,
   "metadata": {},
   "outputs": [
    {
     "data": {
      "text/plain": [
       "(932, 311)"
      ]
     },
     "execution_count": 7,
     "metadata": {},
     "output_type": "execute_result"
    }
   ],
   "source": [
    "len(train), len(test) #, len(train[0])"
   ]
  },
  {
   "cell_type": "code",
   "execution_count": null,
   "metadata": {},
   "outputs": [],
   "source": []
  },
  {
   "cell_type": "code",
   "execution_count": null,
   "metadata": {},
   "outputs": [],
   "source": []
  },
  {
   "cell_type": "code",
   "execution_count": 8,
   "metadata": {},
   "outputs": [
    {
     "data": {
      "text/plain": [
       "19"
      ]
     },
     "execution_count": 8,
     "metadata": {},
     "output_type": "execute_result"
    }
   ],
   "source": [
    "ct = 0\n",
    "for procedure in test:\n",
    "    if len(procedure) < 2:# or len(procedure[0]) > 1 or len(procedure[1]) > 1:\n",
    "        ct+=1  \n",
    "ct"
   ]
  },
  {
   "cell_type": "code",
   "execution_count": 9,
   "metadata": {},
   "outputs": [
    {
     "data": {
      "text/plain": [
       "88"
      ]
     },
     "execution_count": 9,
     "metadata": {},
     "output_type": "execute_result"
    }
   ],
   "source": [
    "ct = 0\n",
    "for procedure in test:\n",
    "    if len(procedure[0]) > 1: # or len(procedure[1]) > 1:\n",
    "        ct+=1\n",
    "ct"
   ]
  },
  {
   "cell_type": "code",
   "execution_count": 10,
   "metadata": {},
   "outputs": [
    {
     "data": {
      "text/plain": [
       "47"
      ]
     },
     "execution_count": 10,
     "metadata": {},
     "output_type": "execute_result"
    }
   ],
   "source": [
    "ct = 0\n",
    "for procedure in test:\n",
    "    if len(procedure)>1 and len(procedure[1]) > 1:\n",
    "        ct+=1  \n",
    "ct"
   ]
  },
  {
   "cell_type": "code",
   "execution_count": null,
   "metadata": {},
   "outputs": [],
   "source": []
  },
  {
   "cell_type": "code",
   "execution_count": 11,
   "metadata": {},
   "outputs": [
    {
     "data": {
      "text/plain": [
       "{'correct': 59, 'incorrect': 122, 'tot': 181, 'hits': 129}"
      ]
     },
     "execution_count": 11,
     "metadata": {},
     "output_type": "execute_result"
    }
   ],
   "source": [
    "# STEP 1 -> STEP 2\n",
    "\n",
    "results = {'correct': 0, 'incorrect':0, 'tot': 0, 'hits': 0}\n",
    "for procedure in test:\n",
    "    if len(procedure) < 2 or len(procedure[0]) > 1 or len(procedure[1]) > 1:\n",
    "        continue\n",
    "    query = procedure[0][0]\n",
    "    gold = procedure[1][0]\n",
    "    hit = False\n",
    "    done  = False\n",
    "    for procedure in train:\n",
    "        if len(procedure) < 2:\n",
    "            continue\n",
    "        for i, step in enumerate(procedure[:-1]):\n",
    "            if query in step:\n",
    "                hit = True\n",
    "                preds = procedure[i+1]\n",
    "                if gold in preds:\n",
    "                    done= True\n",
    "                    results['correct'] += 1\n",
    "                    break\n",
    "                #else:\n",
    "                #    hit = True\n",
    "        if done:\n",
    "            break\n",
    "        \n",
    "    if not done:\n",
    "        results['incorrect'] += 1\n",
    "    results['tot'] +=1\n",
    "\n",
    "    if hit:\n",
    "        results['hits'] += 1\n",
    "        \n",
    "\n",
    "results             "
   ]
  },
  {
   "cell_type": "code",
   "execution_count": null,
   "metadata": {},
   "outputs": [],
   "source": []
  },
  {
   "cell_type": "code",
   "execution_count": null,
   "metadata": {},
   "outputs": [],
   "source": []
  },
  {
   "cell_type": "code",
   "execution_count": 12,
   "metadata": {},
   "outputs": [
    {
     "data": {
      "text/plain": [
       "{'correct': 3, 'incorrect': 137, 'tot': 140, 'hits': 8}"
      ]
     },
     "execution_count": 12,
     "metadata": {},
     "output_type": "execute_result"
    }
   ],
   "source": [
    "# STEP 1 + STEP 2 -> STEP 3\n",
    "\n",
    "results = {'correct': 0, 'incorrect':0, 'tot': 0, 'hits': 0}\n",
    "for procedure in test:\n",
    "    if len(procedure) < 3 or len(procedure[0]) > 1 or len(procedure[1]) > 1 or len(procedure[2]) > 1:\n",
    "        continue\n",
    "    query0 = procedure[0][0]\n",
    "    query1 = procedure[1][0]\n",
    "    gold = procedure[2][0]\n",
    "    hit = False\n",
    "    done  = False\n",
    "    for procedure in train:\n",
    "        if len(procedure) < 3:\n",
    "            continue\n",
    "        for i, step in enumerate(procedure[1:-1]):\n",
    "            if query1 in step and query0 in procedure[i-1]:\n",
    "                hit = True\n",
    "                preds = procedure[i+1]\n",
    "                if gold in preds:\n",
    "                    done= True\n",
    "                    results['correct'] += 1\n",
    "                    break\n",
    "                #else:\n",
    "                #    hit = True\n",
    "        if done:\n",
    "            break\n",
    "        \n",
    "    if not done:\n",
    "        results['incorrect'] += 1\n",
    "    results['tot'] +=1\n",
    "\n",
    "    if hit:\n",
    "        results['hits'] += 1\n",
    "    \n",
    "results        "
   ]
  },
  {
   "cell_type": "code",
   "execution_count": null,
   "metadata": {},
   "outputs": [],
   "source": []
  },
  {
   "cell_type": "code",
   "execution_count": 13,
   "metadata": {},
   "outputs": [
    {
     "data": {
      "text/plain": [
       "{'correct': 45, 'incorrect': 144, 'tot': 189, 'hits': 122}"
      ]
     },
     "execution_count": 13,
     "metadata": {},
     "output_type": "execute_result"
    }
   ],
   "source": [
    "# STEP 1 + STEP 2 -> STEP 3\n",
    "\n",
    "results = {'correct': 0, 'incorrect':0, 'tot': 0, 'hits': 0}\n",
    "for procedure in test:\n",
    "    if len(procedure) < 3 or len(procedure[1]) > 1 or len(procedure[2]) > 1:\n",
    "        continue\n",
    "    query1 = procedure[1][0]\n",
    "    gold = procedure[2][0]\n",
    "    hit = False\n",
    "    done  = False\n",
    "    for procedure in train:\n",
    "        if len(procedure) < 2:\n",
    "            continue\n",
    "        for i, step in enumerate(procedure[:-1]):\n",
    "            if query1 in step:\n",
    "                hit = True\n",
    "                preds = procedure[i+1]\n",
    "                if gold in preds:\n",
    "                    done= True\n",
    "                    results['correct'] += 1\n",
    "                    break\n",
    "                #else:\n",
    "                #    hit = True\n",
    "        if done:\n",
    "            break\n",
    "        \n",
    "    if not done:\n",
    "        results['incorrect'] += 1\n",
    "    results['tot'] +=1\n",
    "\n",
    "    if hit:\n",
    "        results['hits'] += 1\n",
    "    \n",
    "results        "
   ]
  },
  {
   "cell_type": "code",
   "execution_count": null,
   "metadata": {},
   "outputs": [],
   "source": []
  }
 ],
 "metadata": {
  "kernelspec": {
   "display_name": "Python 3",
   "language": "python",
   "name": "python3"
  },
  "language_info": {
   "codemirror_mode": {
    "name": "ipython",
    "version": 3
   },
   "file_extension": ".py",
   "mimetype": "text/x-python",
   "name": "python",
   "nbconvert_exporter": "python",
   "pygments_lexer": "ipython3",
   "version": "3.7.2"
  }
 },
 "nbformat": 4,
 "nbformat_minor": 4
}
